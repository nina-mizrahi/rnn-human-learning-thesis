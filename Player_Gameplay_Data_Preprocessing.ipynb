{
  "cells": [
    {
      "cell_type": "markdown",
      "metadata": {
        "id": "P8KbbmkbUdyw"
      },
      "source": [
        "#0) Player Gameplay Data Preprocessing"
      ]
    },
    {
      "cell_type": "markdown",
      "source": [
        "##a) Retriever Player Data (Data Redacted for Confidentiality)"
      ],
      "metadata": {
        "id": "N-nctmnwsUiN"
      }
    },
    {
      "cell_type": "code",
      "source": [
        "import numpy as np\n",
        "import pandas as pd\n",
        "import ast\n",
        "import math\n",
        "import os\n",
        "import sys\n",
        "import random\n",
        "from gym import core, spaces\n",
        "import matplotlib.pyplot as plt\n",
        "from collections import Counter\n",
        "\n",
        "#!pip install optuna #this is for parameter search\n",
        "import tensorflow as tf\n",
        "\n",
        "from sklearn.model_selection import train_test_split\n",
        "from sklearn.linear_model import LogisticRegression\n",
        "from sklearn.metrics import accuracy_score\n",
        "\n",
        "from tensorflow.keras.models import Sequential\n",
        "from tensorflow.keras.layers import Dense\n",
        "from tensorflow.keras.callbacks import EarlyStopping\n",
        "from tensorflow.keras.optimizers import Adam\n",
        "\n",
        "from collections import Counter\n",
        "from collections import defaultdict"
      ],
      "metadata": {
        "id": "husoTycppRDk"
      },
      "execution_count": 3,
      "outputs": []
    },
    {
      "cell_type": "markdown",
      "metadata": {
        "id": "fsrw8B_y4aSz"
      },
      "source": [
        "##b) Action Sequence Processing"
      ]
    },
    {
      "cell_type": "code",
      "execution_count": 5,
      "metadata": {
        "id": "Bt4AG16_Cf47"
      },
      "outputs": [],
      "source": [
        "# Filter out rows where 'action_sequences' is NaN\n",
        "df = df[~df['action_sequences'].isna()]"
      ]
    },
    {
      "cell_type": "markdown",
      "metadata": {
        "id": "h7kYb-nR54rI"
      },
      "source": [
        "Normalize actions within action sequences so they can be taken by step function\n"
      ]
    },
    {
      "cell_type": "code",
      "execution_count": 6,
      "metadata": {
        "colab": {
          "base_uri": "https://localhost:8080/"
        },
        "id": "nMCuSiQz83d0",
        "outputId": "6c9e3745-c5ed-4b0e-a8f9-12b09f96e0cf",
        "collapsed": true
      },
      "outputs": [
        {
          "output_type": "stream",
          "name": "stdout",
          "text": [
            "0         [0.0, 0.0, 0.0, 0.0, 0.0, 0.0, 6.0]\n",
            "1         [0.0, 0.0, 0.0, 0.0, 0.0, 0.0, 6.0]\n",
            "2         [0.0, 0.0, 0.0, 0.0, 0.0, 0.0, 6.0]\n",
            "3         [0.0, 0.0, 0.0, 0.0, 0.0, 0.0, 6.0]\n",
            "4         [0.0, 0.0, 0.0, 0.0, 0.0, 0.0, 6.0]\n",
            "                         ...                 \n",
            "319614    [0.0, 0.0, 0.0, 0.0, 0.0, 0.0, 6.0]\n",
            "319615    [0.0, 0.0, 0.0, 0.0, 0.0, 0.0, 6.0]\n",
            "319616    [0.0, 0.0, 0.0, 0.0, 0.0, 0.0, 6.0]\n",
            "319617    [0.0, 0.0, 0.0, 0.0, 0.0, 0.0, 6.0]\n",
            "319618    [0.0, 0.0, 0.0, 0.0, 0.0, 0.0, 6.0]\n",
            "Name: action_sequences, Length: 319283, dtype: object\n"
          ]
        }
      ],
      "source": [
        "import ast\n",
        "import math\n",
        "\n",
        "# Convert string representations of lists to actual lists of floats\n",
        "df['action_sequences'] = df['action_sequences'].apply(lambda x: ast.literal_eval(x) if isinstance(x, str) else x)\n",
        "\n",
        "# Iterate through each value 'val' in 'seq':\n",
        "# - If 'val' is -0.0 and its sign is negative, return 6.0.\n",
        "# - If 'val' is less than 0.0 (negative), multiply 'val' by -1 and add 6.\n",
        "# - Otherwise, return 'val' as is.\n",
        "# - actions normalized from -5 to 5, to 0-11\n",
        "def process_sequence(seq):\n",
        "  return [6.0 if val == -0.0 and math.copysign(1, val) == -1  else (val*-1+6 if val < 0.0 else val) for val in seq]\n",
        "\n",
        "df['action_sequences'] = df['action_sequences'].apply(process_sequence)\n",
        "\n",
        "\n",
        "print(df['action_sequences'])\n"
      ]
    },
    {
      "cell_type": "code",
      "execution_count": 7,
      "metadata": {
        "colab": {
          "base_uri": "https://localhost:8080/",
          "height": 578
        },
        "id": "RbnLDq9O42K5",
        "outputId": "4572d44a-0798-4c25-e4d7-d85f1955b9e4",
        "collapsed": true
      },
      "outputs": [
        {
          "output_type": "execute_result",
          "data": {
            "text/plain": [
              "0        [0.0, 0.0, 0.0, 0.0, 0.0, 0.0, 6.0]\n",
              "1        [0.0, 0.0, 0.0, 0.0, 0.0, 0.0, 6.0]\n",
              "2        [0.0, 0.0, 0.0, 0.0, 0.0, 0.0, 6.0]\n",
              "3        [0.0, 0.0, 0.0, 0.0, 0.0, 0.0, 6.0]\n",
              "4        [0.0, 0.0, 0.0, 0.0, 0.0, 0.0, 6.0]\n",
              "                        ...                 \n",
              "63890    [0.0, 0.0, 0.0, 0.0, 0.0, 0.0, 6.0]\n",
              "63891    [0.0, 0.0, 1.0, 0.0, 0.0, 0.0, 6.0]\n",
              "63892    [0.0, 0.0, 0.0, 0.0, 0.0, 0.0, 6.0]\n",
              "63893    [0.0, 0.0, 0.0, 0.0, 0.0, 0.0, 6.0]\n",
              "63894    [0.0, 0.0, 0.0, 0.0, 0.0, 0.0, 6.0]\n",
              "Name: action_sequences, Length: 63895, dtype: object"
            ],
            "text/html": [
              "<div>\n",
              "<style scoped>\n",
              "    .dataframe tbody tr th:only-of-type {\n",
              "        vertical-align: middle;\n",
              "    }\n",
              "\n",
              "    .dataframe tbody tr th {\n",
              "        vertical-align: top;\n",
              "    }\n",
              "\n",
              "    .dataframe thead th {\n",
              "        text-align: right;\n",
              "    }\n",
              "</style>\n",
              "<table border=\"1\" class=\"dataframe\">\n",
              "  <thead>\n",
              "    <tr style=\"text-align: right;\">\n",
              "      <th></th>\n",
              "      <th>action_sequences</th>\n",
              "    </tr>\n",
              "  </thead>\n",
              "  <tbody>\n",
              "    <tr>\n",
              "      <th>0</th>\n",
              "      <td>[0.0, 0.0, 0.0, 0.0, 0.0, 0.0, 6.0]</td>\n",
              "    </tr>\n",
              "    <tr>\n",
              "      <th>1</th>\n",
              "      <td>[0.0, 0.0, 0.0, 0.0, 0.0, 0.0, 6.0]</td>\n",
              "    </tr>\n",
              "    <tr>\n",
              "      <th>2</th>\n",
              "      <td>[0.0, 0.0, 0.0, 0.0, 0.0, 0.0, 6.0]</td>\n",
              "    </tr>\n",
              "    <tr>\n",
              "      <th>3</th>\n",
              "      <td>[0.0, 0.0, 0.0, 0.0, 0.0, 0.0, 6.0]</td>\n",
              "    </tr>\n",
              "    <tr>\n",
              "      <th>4</th>\n",
              "      <td>[0.0, 0.0, 0.0, 0.0, 0.0, 0.0, 6.0]</td>\n",
              "    </tr>\n",
              "    <tr>\n",
              "      <th>...</th>\n",
              "      <td>...</td>\n",
              "    </tr>\n",
              "    <tr>\n",
              "      <th>63890</th>\n",
              "      <td>[0.0, 0.0, 0.0, 0.0, 0.0, 0.0, 6.0]</td>\n",
              "    </tr>\n",
              "    <tr>\n",
              "      <th>63891</th>\n",
              "      <td>[0.0, 0.0, 1.0, 0.0, 0.0, 0.0, 6.0]</td>\n",
              "    </tr>\n",
              "    <tr>\n",
              "      <th>63892</th>\n",
              "      <td>[0.0, 0.0, 0.0, 0.0, 0.0, 0.0, 6.0]</td>\n",
              "    </tr>\n",
              "    <tr>\n",
              "      <th>63893</th>\n",
              "      <td>[0.0, 0.0, 0.0, 0.0, 0.0, 0.0, 6.0]</td>\n",
              "    </tr>\n",
              "    <tr>\n",
              "      <th>63894</th>\n",
              "      <td>[0.0, 0.0, 0.0, 0.0, 0.0, 0.0, 6.0]</td>\n",
              "    </tr>\n",
              "  </tbody>\n",
              "</table>\n",
              "<p>63895 rows × 1 columns</p>\n",
              "</div><br><label><b>dtype:</b> object</label>"
            ]
          },
          "metadata": {},
          "execution_count": 7
        }
      ],
      "source": [
        "#extracts the most recent sequence of actions (action_sequences) for each unique combination of player ID, timestamp, session, and subwave so we are working with the final state of each subwave or session\n",
        "seqs = df.groupby([\"ID\",\"datetime\",\"session_start\",\"sw_number\"]).last().reset_index()\n",
        "seqs['action_sequences']"
      ]
    },
    {
      "cell_type": "code",
      "execution_count": 8,
      "metadata": {
        "colab": {
          "base_uri": "https://localhost:8080/",
          "height": 578
        },
        "id": "wh5A31RGwYEX",
        "outputId": "093c4b4c-c393-4173-fe98-e46c0c7c243f",
        "collapsed": true
      },
      "outputs": [
        {
          "output_type": "execute_result",
          "data": {
            "text/plain": [
              "0        [0.0, 0.0, 0.0, 0.0, 0.0, 0.0, 6.0]\n",
              "1        [0.0, 0.0, 0.0, 0.0, 0.0, 0.0, 6.0]\n",
              "2        [0.0, 0.0, 0.0, 0.0, 0.0, 0.0, 6.0]\n",
              "3        [0.0, 0.0, 0.0, 0.0, 0.0, 0.0, 6.0]\n",
              "4        [0.0, 0.0, 0.0, 0.0, 0.0, 0.0, 6.0]\n",
              "                        ...                 \n",
              "63890    [0.0, 0.0, 0.0, 0.0, 0.0, 0.0, 6.0]\n",
              "63891    [0.0, 0.0, 1.0, 5.0, 0.0, 0.0, 6.0]\n",
              "63892    [0.0, 0.0, 0.0, 0.0, 0.0, 0.0, 6.0]\n",
              "63893    [0.0, 0.0, 0.0, 0.0, 0.0, 0.0, 6.0]\n",
              "63894    [0.0, 0.0, 0.0, 0.0, 0.0, 0.0, 6.0]\n",
              "Name: action_sequences, Length: 63895, dtype: object"
            ],
            "text/html": [
              "<div>\n",
              "<style scoped>\n",
              "    .dataframe tbody tr th:only-of-type {\n",
              "        vertical-align: middle;\n",
              "    }\n",
              "\n",
              "    .dataframe tbody tr th {\n",
              "        vertical-align: top;\n",
              "    }\n",
              "\n",
              "    .dataframe thead th {\n",
              "        text-align: right;\n",
              "    }\n",
              "</style>\n",
              "<table border=\"1\" class=\"dataframe\">\n",
              "  <thead>\n",
              "    <tr style=\"text-align: right;\">\n",
              "      <th></th>\n",
              "      <th>action_sequences</th>\n",
              "    </tr>\n",
              "  </thead>\n",
              "  <tbody>\n",
              "    <tr>\n",
              "      <th>0</th>\n",
              "      <td>[0.0, 0.0, 0.0, 0.0, 0.0, 0.0, 6.0]</td>\n",
              "    </tr>\n",
              "    <tr>\n",
              "      <th>1</th>\n",
              "      <td>[0.0, 0.0, 0.0, 0.0, 0.0, 0.0, 6.0]</td>\n",
              "    </tr>\n",
              "    <tr>\n",
              "      <th>2</th>\n",
              "      <td>[0.0, 0.0, 0.0, 0.0, 0.0, 0.0, 6.0]</td>\n",
              "    </tr>\n",
              "    <tr>\n",
              "      <th>3</th>\n",
              "      <td>[0.0, 0.0, 0.0, 0.0, 0.0, 0.0, 6.0]</td>\n",
              "    </tr>\n",
              "    <tr>\n",
              "      <th>4</th>\n",
              "      <td>[0.0, 0.0, 0.0, 0.0, 0.0, 0.0, 6.0]</td>\n",
              "    </tr>\n",
              "    <tr>\n",
              "      <th>...</th>\n",
              "      <td>...</td>\n",
              "    </tr>\n",
              "    <tr>\n",
              "      <th>63890</th>\n",
              "      <td>[0.0, 0.0, 0.0, 0.0, 0.0, 0.0, 6.0]</td>\n",
              "    </tr>\n",
              "    <tr>\n",
              "      <th>63891</th>\n",
              "      <td>[0.0, 0.0, 1.0, 5.0, 0.0, 0.0, 6.0]</td>\n",
              "    </tr>\n",
              "    <tr>\n",
              "      <th>63892</th>\n",
              "      <td>[0.0, 0.0, 0.0, 0.0, 0.0, 0.0, 6.0]</td>\n",
              "    </tr>\n",
              "    <tr>\n",
              "      <th>63893</th>\n",
              "      <td>[0.0, 0.0, 0.0, 0.0, 0.0, 0.0, 6.0]</td>\n",
              "    </tr>\n",
              "    <tr>\n",
              "      <th>63894</th>\n",
              "      <td>[0.0, 0.0, 0.0, 0.0, 0.0, 0.0, 6.0]</td>\n",
              "    </tr>\n",
              "  </tbody>\n",
              "</table>\n",
              "<p>63895 rows × 1 columns</p>\n",
              "</div><br><label><b>dtype:</b> object</label>"
            ]
          },
          "metadata": {},
          "execution_count": 8
        }
      ],
      "source": [
        "#transforms the action_sequences column from an allocentric (absolute reference) representation to an egocentric (relative reference) one\n",
        "def allo_to_ego(action_seq):\n",
        "    ego_seq = [action_seq[0]] + [\n",
        "        ((action_seq[i] - action_seq[i - 1]) % 6) + (6 if action_seq[i] >= 6 else 0)\n",
        "        for i in range(1, len(action_seq))\n",
        "    ]\n",
        "    return ego_seq\n",
        "\n",
        "seqs['action_sequences'] = seqs['action_sequences'].apply(allo_to_ego)\n",
        "seqs['action_sequences']"
      ]
    },
    {
      "cell_type": "markdown",
      "metadata": {
        "id": "gDkvHZbGU29P"
      },
      "source": [
        "##c) Create a gym environment specifying the rules of the game\n",
        "\n",
        "\n",
        "\n",
        "\n"
      ]
    },
    {
      "cell_type": "markdown",
      "metadata": {
        "id": "dLXMUMQSEXNM"
      },
      "source": [
        "This class defines the game as a gym environment. The most important functions are:\n",
        "\n",
        "\n",
        "1.   `ready`, which specifies behaviors of the environtment (e.g., how many levels to play and whether to print out the game state).\n",
        "2.   `step`, which takes as input the state of the game and the agent's action, and outputs the next state, the reward received in that step, and whether the episode has terminated."
      ]
    },
    {
      "cell_type": "code",
      "execution_count": 9,
      "metadata": {
        "id": "91pnOn9J-bz6"
      },
      "outputs": [],
      "source": [
        "import random\n",
        "from gym import core, spaces #core creates base class for creating custom gym enviroment, spaces provides classes to define action and observation spaces\n",
        "\n",
        "class hexxed(core.Env):\n",
        "    metadata = {'render.modes': ['human']}\n",
        "\n",
        "    def __init__(self):\n",
        "        \"\"\"Initializes constants.\n",
        "        \"\"\"\n",
        "        self.curr_wave = 1\n",
        "        self.curr_act = 0\n",
        "        self.num_attempts = 0\n",
        "        self.wave_reward = 0\n",
        "        self.max_reward = 0\n",
        "        # ↓ which subwave in wave\n",
        "        self.subwave_num = 0\n",
        "        #self.states_in_time = []\n",
        "\n",
        "    def ready(self, num_vertices=6, step_per_pattern=6, levels=6,\n",
        "              shuffle_patterns=True, random_rolls = False,\n",
        "              normalize_reward = False, perfect_bonus = False,render_mode=1): #only used initially to set enviroment up - only do once\n",
        "        \"\"\"Sets hyperparameters as\n",
        "        1. complexity of the state space - will never change, number of steps will be the same as num lobes\n",
        "        2. number of levels to be played\n",
        "        3. data shuffling #shuffle_patterns controls whether the order of the puzzles is shuffled or stays the same each time you play\n",
        "        4. randomization of initial states\n",
        "        5. Whether to incentivize getting a perfect solution\n",
        "        \"\"\"\n",
        "\n",
        "        # ↓ initalize x axis\n",
        "        self.grid_x = num_vertices #num_vertices is how many sides the puzzle has - 6 for our hexagon\n",
        "        # ↓ how many steps of target growth player can access - how long the target you need to build can grow (default is 6)\n",
        "        self.cut_off = step_per_pattern\n",
        "        # ↓ how many levels to attempt\n",
        "        self.num_levels = levels\n",
        "        # ↓ total steps of target growth [changes from 12 to 2*num_vertices] - initializes y axis\n",
        "        self.grid_y = 2 * num_vertices\n",
        "        # ↓ if true patterns (unshuffled) are shuffled after being loaded\n",
        "        # IMPORTANT bc determines whether the order in which puzzles appear is randomized - shuffle_patterns controls whether the order of the puzzles is shuffled or stays the same\n",
        "        self.shuffle_patterns = shuffle_patterns\n",
        "        # ↓ if true patterns are rolled with random prob\n",
        "        #IMPORTANT bc different players get different variations of the game (some get standard some get rotated so we see if rotations are on or off and we might need to know the position of the puzzle pieces so we can properly encode the state of the board\n",
        "        self.random_rolls = random_rolls\n",
        "        # ↓ if true rewards is non proportional to the level - default is false\n",
        "        self.normalize_reward = normalize_reward\n",
        "        # ↓ if 1, prints the state of the game\n",
        "        self.render_mode = render_mode\n",
        "\n",
        "        # add an incentive for the network to get maximum score - turned out not to matter that much\n",
        "        if perfect_bonus: #sets a bonus value of 36 points for getting a perfect score\n",
        "            self.perfect_bonus = 36\n",
        "        else:\n",
        "            self.perfect_bonus = 0 #no bonus if the score is not perfect\n",
        "\n",
        "        #reads patterns for the current wave (level) from a file and stores them in a list\n",
        "        self.pattern_list = self.read_patterns(range(self.curr_wave))\n",
        "        # ↓ shift_by 0..5 vertices, collect\n",
        "        self.action_space = spaces.Discrete(num_vertices + 1) #discrete space with num_vertices + 1 possible actions, representing different moves a player can make\n",
        "        # ↓ contains all states\n",
        "        grid_size = self.grid_x * self.grid_y\n",
        "        self.observation_space = spaces.Box(np.zeros(grid_size, dtype=np.float32), #continuous space representing the state of the game grid, with values ranging from 0 to 1\n",
        "                                            np.ones(grid_size, dtype=np.float32), dtype=np.float32)\n",
        "        self.subwave_id = []\n",
        "        self.reward_mean = []\n",
        "        self.level_num = []\n",
        "        self.attempt_num = []\n",
        "        self.reward_hist = []\n",
        "        self.level_hist = []\n",
        "        self.action_hist = []\n",
        "\n",
        "    #Iterate over the range of target numbers\n",
        "    def read_patterns(self, num_targets):\n",
        "        # Load all patterns from 'spawn.txt' into a NumPy array\n",
        "        all_patterns = np.loadtxt('spawn.txt','int',delimiter=',')\n",
        "        patterns = []\n",
        "        for i in num_targets:\n",
        "            # Select patterns that match the current level (i+1) from all_patterns\n",
        "            level_patterns = all_patterns[all_patterns[...,1] == i+1,...]\n",
        "            #Reshape the selected patterns and append some extra information to them\n",
        "            level_patterns = np.append(level_patterns[...,0].reshape((-1,i+1)),level_patterns[::i+1,3].reshape((-1,1)),1)\n",
        "\n",
        "            # If shuffle_patterns is True, shuffle the selected patterns\n",
        "            if self.shuffle_patterns:\n",
        "                np.random.shuffle(level_patterns)\n",
        "            patterns.extend(level_patterns.tolist())\n",
        "        return patterns\n",
        "\n",
        "    def get_grid(self):\n",
        "      return self.grid\n",
        "\n",
        "    #input action and the game state --> game state is updated step based on inputted action\n",
        "    def step(self, action):\n",
        "      if self.render_mode:\n",
        "        #self.render()\n",
        "        #if self.curr_wave == 1:\n",
        "        self.curr_act = action\n",
        "        self.action_hist.append(action)\n",
        "        self.subwave_id.append(self.subwave_num)\n",
        "        #self.states_in_time[self.key].append(deepcopy(self.grid))\n",
        "        reward = 0\n",
        "        done = 0\n",
        "        if action < 6:\n",
        "            self.step_grid(action)\n",
        "        else:\n",
        "          action = action - 6\n",
        "          if action > 0 or not self.ismoving:\n",
        "            self.step_grid(action)\n",
        "\n",
        "          age = np.where(self.grid[0,self.cut_off:])[0]\n",
        "          if age.size > 0:\n",
        "              reward = (age[0]+1)*2\n",
        "              self.grid[0,:] = 0\n",
        "              #reward = (np.where(self.grid[0,self.cut_off:])[0][0]+1)2\n",
        "              #print(reward)\n",
        "              #self.grid[0,:] = 0\n",
        "\n",
        "        self.ismoving = True\n",
        "        if self.normalize_reward:\n",
        "            reward /= 36.0\n",
        "        done = np.sum(self.grid) == 0\n",
        "        self.subwave_reward += max(0,reward)\n",
        "        if done:\n",
        "            if self.subwave_reward == self.subwave_max:\n",
        "                self.max_reward += self.perfect_bonus * self.curr_wave\n",
        "                reward += self.perfect_bonus * self.curr_wave\n",
        "            self.max_reward += self.pattern_list[self.subwave_num][-1]\n",
        "            #self.subwave_num = (self.subwave_num  + 1)\n",
        "        self.wave_reward += max(0,reward)\n",
        "        self.reward_hist.append(self.subwave_reward)\n",
        "        self.reward_mean.append(self.wave_reward)\n",
        "        self.level_hist.append(self.curr_wave)\n",
        "        self.attempt_num.append(self.num_attempts)\n",
        "        if self.render_mode:\n",
        "          print(self.curr_act,end=' ')\n",
        "          print(self.curr_wave,end=' ')\n",
        "          print(self.num_attempts,end=' ')\n",
        "          print(self.subwave_reward)\n",
        "        return self.grid.flatten(), reward, done, {}\n",
        "\n",
        "    #updates the game grid based on the action taken by adjusting the position of elements in the grid\n",
        "    def step_grid(self,vert): # vert is the action that is fed in\n",
        "        #if self.ismoving is true (player not at inital state of board) calculates distance aka remaining steps needed to reach the target position\n",
        "        if self.ismoving:\n",
        "            dist = max(1,min(vert,6-vert)) # finding clockwise or counter clockwise distance is closest (similiar to what i did but just in one line)\n",
        "        #If the player is not moving (self.ismoving is False), the distance is set to 1, indicating the initial move.\n",
        "        else:\n",
        "            dist = 1\n",
        "        self.grid = np.roll(np.roll(self.grid,-vert,0),dist,1) # and then you're rolling the board accordingly - np.roll rotates the grid by -vert positions along the rows, and the second np.roll rotates by dist positions along the columns\n",
        "        self.grid[:,:dist] = 0 #makes the game binary, moving things up and erasing the 1\n",
        "\n",
        "    #initializes or resets the environment to its starting state, preparing it for a new episode.\n",
        "    def reset(self):\n",
        "        #if the accumulated reward for the current wave is below a threshold determined by subtracting a value based on the length of the pattern list multiplied by 15 from the maximum reward achieved so far.\n",
        "        if (self.curr_wave < 6 and self.wave_reward < self.max_reward - len(self.pattern_list)*15) or \\\n",
        "            (self.curr_wave == 6 and self.wave_reward < self.max_reward - len(self.pattern_list)*6):\n",
        "            self.reset_helper()\n",
        "\n",
        "        elif self.subwave_num == len(self.pattern_list):\n",
        "            self.reset_helper()\n",
        "\n",
        "            if self.curr_wave == self.num_levels:\n",
        "                self.curr_wave = 1\n",
        "            else:\n",
        "                self.curr_wave = min(self.curr_wave+1, self.num_levels)\n",
        "\n",
        "        #Subwave Initialization\n",
        "        if self.subwave_num == 0: #if new subwave\n",
        "            self.pattern_list = self.read_patterns(range(self.curr_wave-1, self.curr_wave)) #load the patterns for the current wave range\n",
        "            self.wave_reward = 0\n",
        "            self.max_reward = 0\n",
        "            self.num_attempts += 1\n",
        "\n",
        "        #Grid and Pattern Initialization\n",
        "        self.ismoving = False\n",
        "        self.subwave_max = self.pattern_list[self.subwave_num][-1]\n",
        "        self.subwave_reward = 0\n",
        "\n",
        "        #initializes the game grid (self.grid) as a matrix of zeros with dimensions (self.grid_x, self.grid_y)\n",
        "        self.grid = np.zeros(shape=(self.grid_x,self.grid_y))\n",
        "        #populates the grid based on the patterns for the current subwave, setting certain elements to 1 based on the pattern\n",
        "        for i in range(len(self.pattern_list[self.subwave_num])-1):\n",
        "            self.grid[self.pattern_list[self.subwave_num][i]][self.cut_off-i-1] = 1\n",
        "\n",
        "        #If random rolls are enabled (self.random_rolls is True), this part of the code performs random rotations on the grid\n",
        "        if self.random_rolls:\n",
        "            self.grid = np.roll(self.grid,random.randint(0, self.grid_x),0)\n",
        "            if random.randint(0,2):\n",
        "                self.grid = np.roll(np.flip(self.grid, 0), 1, 0)\n",
        "        return self.grid.flatten()\n",
        "\n",
        "    def reset_helper(self):\n",
        "        #print('num_attempts {}, subwave_num {}, curr_wave {}'.format(self.num_attempts,self.subwave_num,self.curr_wave))\n",
        "        #self.reward_mean.append(self.wave_reward/self.subwave_num)\n",
        "        #self.level_num.append(self.curr_wave)\n",
        "        #self.attempt_num.append(self.num_attempts)\n",
        "        self.subwave_num = 0\n",
        "\n",
        "        # Subwave Initialization\n",
        "        if self.subwave_num == 0:  # If new subwave\n",
        "            self.pattern_list = self.read_patterns(range(self.curr_wave-1, self.curr_wave))  # Load the patterns for the current wave range\n",
        "            self.wave_reward = 0\n",
        "            self.max_reward = 0\n",
        "            self.num_attempts += 1\n",
        "\n",
        "        # Grid and Pattern Initialization\n",
        "        self.ismoving = False\n",
        "        self.subwave_max = self.pattern_list[self.subwave_num][-1]\n",
        "        self.subwave_reward = 0\n",
        "\n",
        "        # Initializes the game grid (self.grid) as a matrix of zeros with dimensions (self.grid_x, self.grid_y)\n",
        "        self.grid = np.zeros(shape=(self.grid_x, self.grid_y))\n",
        "        # Populates the grid based on the patterns for the current subwave, setting certain elements to 1 based on the pattern\n",
        "        for i in range(len(self.pattern_list[self.subwave_num]) - 1):\n",
        "            self.grid[self.pattern_list[self.subwave_num][i]][self.cut_off-i-1] = 1\n",
        "\n",
        "        # If random rolls are enabled (self.random_rolls is True), this part of the code performs random rotations on the grid\n",
        "        if self.random_rolls:\n",
        "            self.grid = np.roll(self.grid, random.randint(0, self.grid_x), 0)\n",
        "            if random.randint(0, 2):\n",
        "                self.grid = np.roll(np.flip(self.grid, 0), 1, 0)\n",
        "\n",
        "        # Ensure subwave_num is set to 0\n",
        "        self.subwave_num = 0\n",
        "\n",
        "        return self.grid.flatten()\n",
        "\n",
        "\n",
        "    #display the current state of the game environment, particularly the game grid, in a human-readable format\n",
        "    def render(self, mode='human', close=False):\n",
        "        if close:\n",
        "            return\n",
        "        hexagon = np.zeros(self.grid_x)\n",
        "        print(' ',end='')\n",
        "        for x in range(self.grid_x):\n",
        "            y = np.where(self.grid[x,:])[0]\n",
        "            if np.size(y):\n",
        "                hexagon[x] = y[0]\n",
        "        for x in range(self.grid_x):\n",
        "            out_val = int(hexagon[x]-5)\n",
        "            if out_val == -5:\n",
        "              print('.',end='  ')\n",
        "            elif out_val < 0:\n",
        "              print(out_val,end=' ')\n",
        "            else:\n",
        "              print(out_val,end='  ')\n"
      ]
    },
    {
      "cell_type": "markdown",
      "metadata": {
        "id": "ocust5Io6mKU"
      },
      "source": [
        "##d) Generate Gamestate sequences From Action Sequences"
      ]
    },
    {
      "cell_type": "markdown",
      "metadata": {
        "id": "4FsyQm_k7Yzk"
      },
      "source": [
        "85 element vectors represent gamestate (previous action + resulting board state) where the first 72 elements are the OHE board state and the last 13 elements are the players previous action. Below, we generate boardstate for each action within players action sequence, OHE previous position within sequence"
      ]
    },
    {
      "cell_type": "markdown",
      "source": [
        "this function might take a few minutes to run!"
      ],
      "metadata": {
        "id": "Ao6QWSiFuVMI"
      }
    },
    {
      "cell_type": "code",
      "execution_count": 10,
      "metadata": {
        "colab": {
          "base_uri": "https://localhost:8080/"
        },
        "collapsed": true,
        "id": "HeufHAcNi-dh",
        "outputId": "b3a69a88-f563-4751-885b-3aa95d87cce1"
      },
      "outputs": [
        {
          "output_type": "stream",
          "name": "stdout",
          "text": [
            "Processing done!\n"
          ]
        }
      ],
      "source": [
        "import os\n",
        "import sys\n",
        "\n",
        "# Function to get one-hot encoding with reset after 13, this will encode players most current action\n",
        "def get_one_hot_encoding(position, size=13):\n",
        "    one_hot = np.zeros(size)\n",
        "    one_hot[position] = 1\n",
        "    return one_hot\n",
        "\n",
        "# Function to process the action sequence and get the board states and positions\n",
        "def get_board_states_and_positions(actions):\n",
        "    env = hexxed() #for each action sequence, reset the enviroment so we have a new unmodified board\n",
        "    env.ready()\n",
        "    env.reset()\n",
        "    board_states = []\n",
        "    board_states.append(np.concatenate((env.get_grid().flatten(), get_one_hot_encoding(0)))) #add the initial board, without any actions taken\n",
        "    for i, action in enumerate(actions[:-1]): #if our target (players next action) is i, we want board state i-1. 1st action doesnt have a boardstate, so add the inital state and remove last action\n",
        "        #for each action take a step --> modify board acccordingly\n",
        "        state,_,_,_ = env.step(int(action))\n",
        "        one_hot_position = get_one_hot_encoding(int(action+1)) #encode what this action is as a OHE vector\n",
        "        combined_state = np.concatenate((state, one_hot_position)) #combine board state and action\n",
        "        board_states.append(combined_state) #add to list for that row\n",
        "    return board_states\n",
        "\n",
        "\n",
        "# Suppressing print statements\n",
        "class SuppressPrints:\n",
        "    def __enter__(self):\n",
        "        self._original_stdout = sys.stdout\n",
        "        sys.stdout = open(os.devnull, 'w')\n",
        "\n",
        "    def __exit__(self, exc_type, exc_val, exc_tb):\n",
        "        sys.stdout.close()\n",
        "        sys.stdout = self._original_stdout\n",
        "\n",
        "# Iterate over each row in the 'action_sequences' column and process the sequences\n",
        "all_board_states = []\n",
        "\n",
        "#with SuppressPrints():\n",
        "with SuppressPrints():\n",
        "    for idx, action_sequence in seqs['action_sequences'].items():\n",
        "        # This block will suppress any prints within the function calls\n",
        "        board_states = get_board_states_and_positions(action_sequence)\n",
        "        all_board_states.append(board_states)\n",
        "print(\"Processing done!\")\n",
        "\n",
        "\n",
        "# Add the list of board states and positions as new columns to the DataFrame\n",
        "seqs['board_states'] = all_board_states"
      ]
    },
    {
      "cell_type": "markdown",
      "source": [
        "make sure that every action sequence has a cooresponding board state sequence of the same length"
      ],
      "metadata": {
        "id": "aKcFqIGCurVH"
      }
    },
    {
      "cell_type": "code",
      "execution_count": 11,
      "metadata": {
        "colab": {
          "base_uri": "https://localhost:8080/"
        },
        "id": "HMI8XiauYyyl",
        "outputId": "f61610ef-ee9e-4c62-f7c2-5ad47ed8885c"
      },
      "outputs": [
        {
          "output_type": "stream",
          "name": "stdout",
          "text": [
            "All lengths match :p\n"
          ]
        }
      ],
      "source": [
        "# new columns with length of the action sequences and board states\n",
        "seqs['action_sequence_length'] = seqs['action_sequences'].apply(len)\n",
        "seqs['board_state_length'] = seqs['board_states'].apply(len)\n",
        "\n",
        "# Check if lengths match\n",
        "lengths_match = (seqs['action_sequence_length'] == seqs['board_state_length'])\n",
        "\n",
        "# show any rows where lengths do not match\n",
        "mismatch_rows = seqs[~lengths_match]\n",
        "\n",
        "if not mismatch_rows.empty:\n",
        "    print(\"Rows with mismatched lengths:\")\n",
        "    print(mismatch_rows[['action_sequence_length', 'board_state_length']])\n",
        "else:\n",
        "    print(\"All lengths match :p\")"
      ]
    },
    {
      "cell_type": "markdown",
      "source": [
        "make sure that all players/attempts have the same inital board state"
      ],
      "metadata": {
        "id": "n9n0jRQvu5XP"
      }
    },
    {
      "cell_type": "code",
      "execution_count": 12,
      "metadata": {
        "colab": {
          "base_uri": "https://localhost:8080/"
        },
        "id": "me4X1eu0Tt4b",
        "outputId": "e8248677-c491-4897-df0f-1324402fb5cf"
      },
      "outputs": [
        {
          "output_type": "stream",
          "name": "stdout",
          "text": [
            "[0. 0. 0. 0. 0. 1. 0. 0. 0. 0. 0. 0. 0. 0. 0. 0. 0. 0. 0. 0. 0. 0. 0. 0.\n",
            " 0. 0. 0. 0. 0. 0. 0. 0. 0. 0. 0. 0. 0. 0. 0. 0. 0. 0. 0. 0. 0. 0. 0. 0.\n",
            " 0. 0. 0. 0. 0. 0. 0. 0. 0. 0. 0. 0. 0. 0. 0. 0. 0. 0. 0. 0. 0. 0. 0. 0.\n",
            " 1. 0. 0. 0. 0. 0. 0. 0. 0. 0. 0. 0. 0.]\n",
            "Empty DataFrame\n",
            "Columns: [first_board_state]\n",
            "Index: []\n"
          ]
        }
      ],
      "source": [
        "# Extract the first element of each list in 'board_states' and store it in a new column\n",
        "seqs['first_board_state'] = seqs['board_states'].apply(lambda x: x[0])\n",
        "\n",
        "# Calculate the average of the first_board_state\n",
        "average_first_board_state = seqs['first_board_state'].mean()\n",
        "\n",
        "print(average_first_board_state)\n",
        "\n",
        "#check if any states dont have this value\n",
        "seqs['is_different'] = seqs['first_board_state'].apply(lambda x: not np.array_equal(x,average_first_board_state))\n",
        "\n",
        "different_states = seqs[seqs['is_different']]\n",
        "\n",
        "print(different_states[['first_board_state']])"
      ]
    },
    {
      "cell_type": "code",
      "execution_count": 13,
      "metadata": {
        "colab": {
          "base_uri": "https://localhost:8080/"
        },
        "id": "wY9KjbYTyedj",
        "outputId": "09594865-af31-4e75-beae-e08f3abf2aa1"
      },
      "outputs": [
        {
          "output_type": "stream",
          "name": "stdout",
          "text": [
            "Average first 72 values of inital board states:\n",
            "[[0. 0. 0. 0. 0. 1. 0. 0. 0. 0. 0. 0.]\n",
            " [0. 0. 0. 0. 0. 0. 0. 0. 0. 0. 0. 0.]\n",
            " [0. 0. 0. 0. 0. 0. 0. 0. 0. 0. 0. 0.]\n",
            " [0. 0. 0. 0. 0. 0. 0. 0. 0. 0. 0. 0.]\n",
            " [0. 0. 0. 0. 0. 0. 0. 0. 0. 0. 0. 0.]\n",
            " [0. 0. 0. 0. 0. 0. 0. 0. 0. 0. 0. 0.]]\n"
          ]
        }
      ],
      "source": [
        "# this is a better visualization of what the first board state looks like\n",
        "first_72_values = average_first_board_state[:72]\n",
        "reshaped_matrix = first_72_values.reshape(6, 12)\n",
        "print(\"Average first 72 values of inital board states:\")\n",
        "print(reshaped_matrix)"
      ]
    },
    {
      "cell_type": "code",
      "execution_count": 14,
      "metadata": {
        "colab": {
          "base_uri": "https://localhost:8080/"
        },
        "id": "s4NL7INQy579",
        "outputId": "4ad99858-044a-492f-9fc1-a53cd0029616"
      },
      "outputs": [
        {
          "output_type": "stream",
          "name": "stdout",
          "text": [
            "Average last 13 values of inital board states:\n",
            "[1. 0. 0. 0. 0. 0. 0. 0. 0. 0. 0. 0. 0.]\n"
          ]
        }
      ],
      "source": [
        "#Make sure we have the correct inital board states\n",
        "#we have 12 actions, but there is this one hot encoding to represent that no actions have been taken yet\n",
        "last_13_values = average_first_board_state[-13:]\n",
        "print(\"Average last 13 values of inital board states:\")\n",
        "print(last_13_values)"
      ]
    },
    {
      "cell_type": "markdown",
      "source": [
        "##e) Define Final Dataframe for Model Input"
      ],
      "metadata": {
        "id": "0oPMVvWJFrWj"
      }
    },
    {
      "cell_type": "markdown",
      "source": [
        "right now the df contains individual session attempts. we want to make sure that the history of a given ID is grouped together chronologically so our network can train on their entire history."
      ],
      "metadata": {
        "id": "Fc8xEyyPvs_g"
      }
    },
    {
      "cell_type": "code",
      "execution_count": 15,
      "metadata": {
        "colab": {
          "base_uri": "https://localhost:8080/"
        },
        "id": "F0yNIhQLJT_k",
        "outputId": "8f874590-8073-483d-e135-f84f74f41961"
      },
      "outputs": [
        {
          "output_type": "stream",
          "name": "stdout",
          "text": [
            "Total rows in 'seqs': 63895\n",
            "Unique IDs with multiple rows: 3925\n",
            "Number of rows that will be left the same (single-row IDs): 91\n",
            "Number of rows that will be combined: 59879\n",
            "Total unique IDs (should match final row count in new DataFrame): 4016\n"
          ]
        }
      ],
      "source": [
        "#run this to make sure we group correcly later\n",
        "\n",
        "# Counting number of rows for each ID\n",
        "id_counts = seqs['ID'].value_counts()\n",
        "\n",
        "# Filtering for IDs that have multiple rows\n",
        "multiple_row_counts = id_counts[id_counts > 1]\n",
        "#print(multiple_row_counts)\n",
        "\n",
        "#total expected rows after combining\n",
        "expected_rows = len(id_counts)  # each unique ID should have one row in the final DataFrame\n",
        "\n",
        "# Filtering for IDs that have a single row\n",
        "single_row_counts = id_counts[id_counts == 1]\n",
        "\n",
        "# Calculating the number of rows that will remain unchanged\n",
        "rows_left_same = len(single_row_counts)\n",
        "\n",
        "print(f\"Total rows in 'seqs': {len(seqs)}\")\n",
        "print(f\"Unique IDs with multiple rows: {len(multiple_row_counts)}\")\n",
        "print(f\"Number of rows that will be left the same (single-row IDs): {rows_left_same}\")\n",
        "print(f\"Number of rows that will be combined: {sum(multiple_row_counts) - len(multiple_row_counts)}\")\n",
        "print(f\"Total unique IDs (should match final row count in new DataFrame): {expected_rows}\")"
      ]
    },
    {
      "cell_type": "markdown",
      "source": [
        "combine rows for the same player (ID) in chronological order"
      ],
      "metadata": {
        "id": "_U1hxkMDa6di"
      }
    },
    {
      "cell_type": "code",
      "source": [
        "#Sort the DataFrame by 'datetime' to ensure chronological order\n",
        "newseqs = seqs.sort_values(by='datetime')\n",
        "\n",
        "#Identify unique and duplicate IDs\n",
        "grouped = newseqs.groupby('ID')\n",
        "unique_ids_df = grouped.filter(lambda x: len(x) == 1)  # IDs without duplicates\n",
        "duplicate_ids_df = grouped.filter(lambda x: len(x) > 1)  # IDs with multiple rows\n",
        "\n",
        "# Create a new DataFrame for IDs without duplicates with only selected columns\n",
        "unique_df = unique_ids_df[['ID', 'action_sequences', 'board_states', 'learning', 'learned']].copy()\n",
        "\n",
        "#For IDs with duplicates, combine the columns, make sure they are being added in chronological order\n",
        "# Aggregate using 'sum' for lists and 'max' for binary/categorical indicators\n",
        "combined_df = (\n",
        "    duplicate_ids_df.groupby('ID')\n",
        "    .agg({\n",
        "        'action_sequences': 'sum',  # Concatenate lists\n",
        "        'board_states': 'sum',      # Concatenate lists\n",
        "        'learning': list,          # Take the max value (e.g., if any row has learning, it's true)\n",
        "        'learned': list            # Take the max value (e.g., if any row has learned, it's true)\n",
        "    })\n",
        "    .reset_index()\n",
        ")\n",
        "\n",
        "#Concatenate the unique and combined DataFrames to get the final result\n",
        "final_df = pd.concat([unique_df, combined_df], ignore_index=True)"
      ],
      "metadata": {
        "id": "B2hZy0Zx4URu"
      },
      "execution_count": 16,
      "outputs": []
    },
    {
      "cell_type": "code",
      "source": [
        "#Because we concatonated, we want to shuffle the rows so single atttempt ids are mixed in to the rest\n",
        "\n",
        "# Shuffle rows of final_df randomly\n",
        "final_df = final_df.sample(frac=1, random_state=42).reset_index(drop=True)\n"
      ],
      "metadata": {
        "id": "vvM0jY4EFrTj"
      },
      "execution_count": 17,
      "outputs": []
    },
    {
      "cell_type": "code",
      "source": [
        "#double checking that player action sequences were concatonated correctly\n",
        "\n",
        "# Display 'action_sequence' values for '1593804544_938284352' in 'seqs'\n",
        "original_sequences = seqs.loc[seqs['ID'] == '1593804544_938284352', 'action_sequences']\n",
        "print(\"Original action_sequences in seqs:\")\n",
        "print(original_sequences.tolist())\n",
        "\n",
        "# Display the combined 'action_sequence' value for '1593804544_938284352' in 'final_df'\n",
        "combined_sequence = final_df.loc[final_df['ID'] == '1593804544_938284352', 'action_sequences'].values[0]\n",
        "print(\"\\nCombined action_sequence in final_df:\")\n",
        "print(combined_sequence)"
      ],
      "metadata": {
        "colab": {
          "base_uri": "https://localhost:8080/"
        },
        "id": "uY17pqtX5dQ8",
        "outputId": "386a2bb2-a77f-4716-e5b5-6265622b244c"
      },
      "execution_count": 18,
      "outputs": [
        {
          "output_type": "stream",
          "name": "stdout",
          "text": [
            "Original action_sequences in seqs:\n",
            "[[0.0, 0.0, 0.0, 0.0, 0.0, 0.0, 6.0], [0.0, 0.0, 0.0, 0.0, 0.0, 0.0, 6.0], [0.0, 0.0, 0.0, 0.0, 0.0, 0.0, 6.0], [0.0, 0.0, 0.0, 0.0, 0.0, 0.0, 6.0], [0.0, 0.0, 0.0, 0.0, 0.0, 0.0, 6.0], [0.0, 0.0, 0.0, 0.0, 0.0, 0.0, 6.0]]\n",
            "\n",
            "Combined action_sequence in final_df:\n",
            "[0.0, 0.0, 0.0, 0.0, 0.0, 0.0, 6.0, 0.0, 0.0, 0.0, 0.0, 0.0, 0.0, 6.0, 0.0, 0.0, 0.0, 0.0, 0.0, 0.0, 6.0, 0.0, 0.0, 0.0, 0.0, 0.0, 0.0, 6.0, 0.0, 0.0, 0.0, 0.0, 0.0, 0.0, 6.0, 0.0, 0.0, 0.0, 0.0, 0.0, 0.0, 6.0]\n"
          ]
        }
      ]
    },
    {
      "cell_type": "code",
      "source": [
        "# Check that the length of action_sequences matches the length of board_states for each ID\n",
        "mismatches = []\n",
        "\n",
        "for idx, row in final_df.iterrows():\n",
        "    if len(row['action_sequences']) != len(row['board_states']):\n",
        "        mismatches.append((row['ID'], len(row['action_sequences']), len(row['board_states'])))\n",
        "\n",
        "# Print the results\n",
        "if mismatches:\n",
        "    print(\"IDs with mismatched lengths between action_sequences and board_states:\")\n",
        "    for mismatch in mismatches:\n",
        "        print(f\"ID: {mismatch[0]}, action_sequences length: {mismatch[1]}, board_states length: {mismatch[2]}\")\n",
        "else:\n",
        "    print(\"All IDs have matching lengths for action_sequences and board_states.\")\n"
      ],
      "metadata": {
        "colab": {
          "base_uri": "https://localhost:8080/"
        },
        "id": "iZGi3nnuw8hU",
        "outputId": "8ed0c2b3-f831-4082-95a6-3918cd9111aa"
      },
      "execution_count": 19,
      "outputs": [
        {
          "output_type": "stream",
          "name": "stdout",
          "text": [
            "All IDs have matching lengths for action_sequences and board_states.\n"
          ]
        }
      ]
    },
    {
      "cell_type": "markdown",
      "source": [
        "filter dataframe so that we only have rows from players who have learning (aka demonstrated a leap of insight at some point in their sequence)"
      ],
      "metadata": {
        "id": "X9zf5TlqzAsD"
      }
    },
    {
      "cell_type": "code",
      "source": [
        "# Find IDs where the 'learned' column contains both True and False - there should be none of these\n",
        "mixed_learned_ids = final_df[\n",
        "    final_df['learned'].apply(lambda x: isinstance(x, list) and len(set(x)) > 1)  # makeing sure x is a list before using set()\n",
        "]\n",
        "\n",
        "print(\"IDs with both True and False in 'learned':\")\n",
        "print(mixed_learned_ids[['ID', 'learned']])\n"
      ],
      "metadata": {
        "colab": {
          "base_uri": "https://localhost:8080/"
        },
        "id": "yfjllk7IzhiF",
        "outputId": "88b4d95a-6c98-4065-95e6-d6625c5e4266"
      },
      "execution_count": 20,
      "outputs": [
        {
          "output_type": "stream",
          "name": "stdout",
          "text": [
            "IDs with both True and False in 'learned':\n",
            "Empty DataFrame\n",
            "Columns: [ID, learned]\n",
            "Index: []\n"
          ]
        }
      ]
    },
    {
      "cell_type": "code",
      "source": [
        "# making sure all entries in 'learned' are lists for consistent processing\n",
        "final_df['learned'] = final_df['learned'].apply(lambda x: x if isinstance(x, list) else [x])\n",
        "\n",
        "# Group by 'ID' and combine the 'learned' values into a single list for each ID\n",
        "grouped_learned = final_df.groupby('ID')['learned'].sum()\n",
        "\n",
        "# Counting IDs based on whether they learned or not\n",
        "ids_learned = sum(1 for learned_list in grouped_learned if True in learned_list)\n",
        "ids_not_learned = sum(1 for learned_list in grouped_learned if True not in learned_list)\n",
        "\n",
        "print(f\"Number of IDs who have learned: {ids_learned}\")\n",
        "print(f\"Number of IDs who have not learned: {ids_not_learned}\")\n"
      ],
      "metadata": {
        "colab": {
          "base_uri": "https://localhost:8080/"
        },
        "id": "JlzR2I1d0Cmw",
        "outputId": "1f473500-42c7-4553-bbc7-df018ca83a15"
      },
      "execution_count": 21,
      "outputs": [
        {
          "output_type": "stream",
          "name": "stdout",
          "text": [
            "Number of IDs who have learned: 1649\n",
            "Number of IDs who have not learned: 2367\n"
          ]
        }
      ]
    },
    {
      "cell_type": "code",
      "source": [
        "#looking to see if there is a difference between lengths of players who have learned and players who have not\n",
        "\n",
        "# Add a column for the length of each action sequence\n",
        "final_df['sequence_length'] = final_df['action_sequences'].apply(len)\n",
        "\n",
        "# Group by 'ID' to determine learning status\n",
        "grouped_learned = final_df.groupby('ID')['learned'].sum()\n",
        "\n",
        "# Identify IDs who have learned and not learned\n",
        "ids_learned = grouped_learned[grouped_learned.apply(lambda x: True in x)].index\n",
        "ids_not_learned = grouped_learned[grouped_learned.apply(lambda x: True not in x)].index\n",
        "\n",
        "# Separate sequence lengths for those who have learned and those who have not\n",
        "learned_sequence_lengths = final_df[final_df['ID'].isin(ids_learned)]['sequence_length']\n",
        "not_learned_sequence_lengths = final_df[final_df['ID'].isin(ids_not_learned)]['sequence_length']\n",
        "\n",
        "# Plot histograms\n",
        "import matplotlib.pyplot as plt\n",
        "plt.figure(figsize=(14, 7))\n",
        "\n",
        "# Histogram for IDs who have learned\n",
        "plt.subplot(1, 2, 1)\n",
        "plt.hist(learned_sequence_lengths, bins=20, alpha=0.7, color='blue')\n",
        "plt.title('Histogram of Sequence Lengths (Learned)')\n",
        "plt.xlabel('Sequence Length')\n",
        "plt.ylabel('Frequency')\n",
        "plt.grid(axis='y')\n",
        "\n",
        "# Histogram for IDs who have not learned\n",
        "plt.subplot(1, 2, 2)\n",
        "plt.hist(not_learned_sequence_lengths, bins=20, alpha=0.7, color='orange')\n",
        "plt.title('Histogram of Sequence Lengths (Not Learned)')\n",
        "plt.xlabel('Sequence Length')\n",
        "plt.ylabel('Frequency')\n",
        "plt.grid(axis='y')\n",
        "\n",
        "plt.tight_layout()\n",
        "plt.show()\n",
        "\n",
        "# Calculate and print the average sequence lengths\n",
        "average_learned_length = learned_sequence_lengths.mean()\n",
        "average_not_learned_length = not_learned_sequence_lengths.mean()\n",
        "\n",
        "print(f\"Average sequence length for IDs who have learned: {average_learned_length:.2f}\")\n",
        "print(f\"Average sequence length for IDs who have not learned: {average_not_learned_length:.2f}\")\n"
      ],
      "metadata": {
        "colab": {
          "base_uri": "https://localhost:8080/",
          "height": 752
        },
        "id": "nolZ4skY3LNL",
        "outputId": "b343fd5a-9e0b-4ba7-dbfb-16a3ab148253"
      },
      "execution_count": 22,
      "outputs": [
        {
          "output_type": "display_data",
          "data": {
            "text/plain": [
              "<Figure size 1400x700 with 2 Axes>"
            ],
            "image/png": "[encoded data removed]"
          },
          "metadata": {}
        },
        {
          "output_type": "stream",
          "name": "stdout",
          "text": [
            "Average sequence length for IDs who have learned: 123.38\n",
            "Average sequence length for IDs who have not learned: 48.94\n"
          ]
        }
      ]
    },
    {
      "cell_type": "code",
      "source": [
        "#OUTPUT REDACTED\n",
        "# Filter final_df to include only rows where 'learned' contains True\n",
        "final_df = final_df[final_df['learned'].apply(lambda x: True in x)]\n",
        "\n",
        "# Display the updated DataFrame structure\n",
        "print(final_df.head())\n",
        "print(f\"New final_df contains {len(final_df)} rows of players who learned.\")\n"
      ],
      "metadata": {
        "id": "nCfF4D0Ad_HI"
      },
      "execution_count": null,
      "outputs": []
    },
    {
      "cell_type": "code",
      "execution_count": 24,
      "metadata": {
        "id": "1Gz1ABuRN_sK",
        "colab": {
          "base_uri": "https://localhost:8080/",
          "height": 564
        },
        "outputId": "83b1fe33-937b-4b8d-8676-b227fe445f3f"
      },
      "outputs": [
        {
          "output_type": "display_data",
          "data": {
            "text/plain": [
              "<Figure size 1000x600 with 1 Axes>"
            ],
            "image/png": "[encoded data removed]"
          },
          "metadata": {}
        }
      ],
      "source": [
        "#histogram of action sequence lengths for players who have learned\n",
        "\n",
        "# Calculate the length of each action_sequence for every ID in final_df\n",
        "action_lengths = final_df['action_sequences'].apply(len)\n",
        "\n",
        "# Create the histogram\n",
        "plt.figure(figsize=(10, 6))\n",
        "plt.hist(action_lengths, bins=50, edgecolor='black')\n",
        "plt.title('Histogram of Action Sequence Lengths')\n",
        "plt.xlabel('Number of Actions in Action Sequence')\n",
        "plt.ylabel('Frequency')\n",
        "plt.grid(True)\n",
        "plt.show()\n"
      ]
    },
    {
      "cell_type": "markdown",
      "source": [
        "Now i want to look at lengths of action sequences to see where i should trundicate"
      ],
      "metadata": {
        "id": "r5fqTCfj3kVL"
      }
    },
    {
      "cell_type": "code",
      "execution_count": 25,
      "metadata": {
        "id": "mhobKKt0STxe",
        "colab": {
          "base_uri": "https://localhost:8080/"
        },
        "outputId": "61299ca6-f4d1-48b4-f47d-88dd71a57df7"
      },
      "outputs": [
        {
          "output_type": "stream",
          "name": "stdout",
          "text": [
            "The length of the action sequence at the 99th percentile is 512.04.\n",
            "The length of the action sequence at the 95th percentile is 282.5999999999999.\n",
            "The action sequence of 704 falls into: 0.9987871437234688th percentile.\n"
          ]
        }
      ],
      "source": [
        "# Get the length of each action sequence in final_df\n",
        "action_sequence_lengths = final_df['action_sequences'].apply(len)\n",
        "\n",
        "# Find the length of the action sequence at the 90th percentile\n",
        "length_90th_percentile = action_sequence_lengths.quantile(0.99) #quantile is a function that finds the value below which 99% of the data falls\n",
        "length_95th_percentile = action_sequence_lengths.quantile(0.95)\n",
        "# Find the percentile of 704 within the dataset, this is the highest value I can process without RAM crashing\n",
        "percentile_704 = (action_sequence_lengths <= 704).mean()\n",
        "\n",
        "\n",
        "print(f\"The length of the action sequence at the 99th percentile is {length_90th_percentile}.\")\n",
        "print(f\"The length of the action sequence at the 95th percentile is {length_95th_percentile}.\")\n",
        "print(f\"The action sequence of 704 falls into: {percentile_704}th percentile.\")\n"
      ]
    },
    {
      "cell_type": "code",
      "source": [
        "# Count the number of sequences with lengths greater than 512\n",
        "sequences_above_512 = (action_sequence_lengths > 512).sum()\n",
        "sequences_above_283 = (action_sequence_lengths > 282).sum()\n",
        "sequences_above_704 = (action_sequence_lengths > 704).sum()\n",
        "\n",
        "\n",
        "print(f\"The number of sequences with lengths greater than 512 (99th percentile) is {sequences_above_512}.\")\n",
        "print(f\"The number of sequences with lengths greater than 283 (95th percentile) is {sequences_above_283}.\")\n",
        "print(f\"The number of sequences with lengths greater than 704 (highest value) is {sequences_above_704}.\")\n",
        "\n"
      ],
      "metadata": {
        "colab": {
          "base_uri": "https://localhost:8080/"
        },
        "id": "K128VojVzf2a",
        "outputId": "784a9397-6eaf-4d47-afc2-42facd6635da"
      },
      "execution_count": 26,
      "outputs": [
        {
          "output_type": "stream",
          "name": "stdout",
          "text": [
            "The number of sequences with lengths greater than 512 (99th percentile) is 17.\n",
            "The number of sequences with lengths greater than 283 (95th percentile) is 83.\n",
            "The number of sequences with lengths greater than 704 (highest value) is 2.\n"
          ]
        }
      ]
    },
    {
      "cell_type": "markdown",
      "source": [
        "truncating at 704 since it perserves the most data"
      ],
      "metadata": {
        "id": "h85H1H0M49Ol"
      }
    },
    {
      "cell_type": "code",
      "source": [
        "# Filter final_df to exclude rows with action_sequences longer than 704. only 2 action sequences will be removed\n",
        "filtered_final_df = final_df[final_df['action_sequences'].apply(len) <= 704]\n",
        "\n",
        "# Check the new shape of the DataFrame\n",
        "print(f\"Filtered DataFrame has {filtered_final_df.shape[0]} rows and {filtered_final_df.shape[1]} columns.\")\n"
      ],
      "metadata": {
        "colab": {
          "base_uri": "https://localhost:8080/"
        },
        "id": "yq6aqmMn2QWp",
        "outputId": "5e3b0f32-27f6-48c3-e66a-a224d1f0ded8"
      },
      "execution_count": 27,
      "outputs": [
        {
          "output_type": "stream",
          "name": "stdout",
          "text": [
            "Filtered DataFrame has 1647 rows and 6 columns.\n"
          ]
        }
      ]
    }
  ],
  "metadata": {
    "colab": {
      "collapsed_sections": [
        "fsrw8B_y4aSz",
        "gDkvHZbGU29P",
        "ocust5Io6mKU",
        "4FsyQm_k7Yzk",
        "0oPMVvWJFrWj",
        "YHQi43LqGVqE",
        "XrGMlFamnoTr",
        "nDaIjbOOwwOz",
        "tEadkqSicV0n",
        "STdHvW64ctcS",
        "rsRfqkyIuYHz",
        "SIBIUnWrusNG",
        "rGesIHfNfw-e",
        "ckCQ2nR-f1j8",
        "KU0R2qu4XtBx",
        "PG_b_8cpuP3T",
        "MH-gUAZgvzGm",
        "mBfM4GzMriKs",
        "CHZjBluQPwpN",
        "riCobooOvQ0K",
        "7LPIZ0YCNN5W",
        "4m77JFNGp9_j",
        "Le_j9nA4qpv9",
        "seLqEIlqqxiJ",
        "w4mNOzS-iJLM",
        "YaavtT-LisjN",
        "5fZQ0PwqPxCU",
        "W95sPGfGeSfR",
        "7IIqop81i7DN",
        "srGuoSivVBAI",
        "fZfH5FBMU2Qe",
        "lcZC_mWHcIvp",
        "NsnjhHbHwOWF",
        "SGl4j26GcwJK",
        "axNSGk54zMGF",
        "wrcnCE4HQPc4",
        "zLxFSWduxXGd",
        "4wkJLIeql_PZ",
        "6LR4ivMgxfqJ",
        "-C84jQ1Tajn5",
        "0FnBKlyh7qme",
        "VmXEk6VxZrC0",
        "w7Cm91brZ-6d",
        "KMOKwnR7bPx8",
        "6jKm4WNXAxy1",
        "dKFipf2auxtR",
        "1x9PZFTcu60O",
        "IDQmyYM6vYoB",
        "nXcBw4Ccaa6N",
        "Og1WrIX9t8Px",
        "AcUvGLtIvwnY",
        "NBaeVVr48AWd",
        "moctmIbPQ73C",
        "SEWTPo85BVt4",
        "otTsFQXPxXSh",
        "B9VN9I1exscR",
        "PgXLI1dEyKcg",
        "G_DVSsUByZTb",
        "gBhnXiNeyy-p",
        "Rb2x4Y2ey7Cq",
        "w6v7QWUPr8El",
        "ydK5mYK8A6N_",
        "zAn4scvJAu5F",
        "WNpdJ-J0BhU3",
        "tJYIDVB5ED6d",
        "9knSfjMMXDcs"
      ],
      "provenance": [],
      "toc_visible": true
    },
    "kernelspec": {
      "display_name": "Python 3",
      "name": "python3"
    },
    "language_info": {
      "name": "python"
    }
  },
  "nbformat": 4,
  "nbformat_minor": 0
}